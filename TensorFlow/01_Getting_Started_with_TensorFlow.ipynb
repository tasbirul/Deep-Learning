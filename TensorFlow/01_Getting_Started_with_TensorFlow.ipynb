{
 "cells": [
  {
   "cell_type": "markdown",
   "metadata": {},
   "source": [
    "# Getting Started with TensorFlow"
   ]
  },
  {
   "cell_type": "code",
   "execution_count": 1,
   "metadata": {},
   "outputs": [],
   "source": [
    "import tensorflow as tf"
   ]
  },
  {
   "cell_type": "markdown",
   "metadata": {},
   "source": [
    "### Into to `tf` `Variable`,  `constant` and  `placeholders`"
   ]
  },
  {
   "cell_type": "markdown",
   "metadata": {},
   "source": [
    "#### TensorFlow Variable `tf.Variable`"
   ]
  },
  {
   "cell_type": "code",
   "execution_count": 2,
   "metadata": {},
   "outputs": [],
   "source": [
    "a = tf.Variable(3, name=\"a\")\n",
    "b = tf.Variable(2, name=\"y\")\n",
    "f = a**2 + 2*a*b + b**2"
   ]
  },
  {
   "cell_type": "code",
   "execution_count": 3,
   "metadata": {},
   "outputs": [
    {
     "data": {
      "text/plain": [
       "<tf.Variable 'a:0' shape=() dtype=int32_ref>"
      ]
     },
     "execution_count": 3,
     "metadata": {},
     "output_type": "execute_result"
    }
   ],
   "source": [
    "a"
   ]
  },
  {
   "cell_type": "code",
   "execution_count": 4,
   "metadata": {},
   "outputs": [
    {
     "data": {
      "text/plain": [
       "<tf.Tensor 'add_1:0' shape=() dtype=int32>"
      ]
     },
     "execution_count": 4,
     "metadata": {},
     "output_type": "execute_result"
    }
   ],
   "source": [
    "f"
   ]
  },
  {
   "cell_type": "code",
   "execution_count": 5,
   "metadata": {},
   "outputs": [],
   "source": [
    "with tf.Session() as sess:\n",
    "    a.initializer.run()\n",
    "    b.initializer.run()\n",
    "    result = f.eval()"
   ]
  },
  {
   "cell_type": "code",
   "execution_count": 6,
   "metadata": {},
   "outputs": [
    {
     "name": "stdout",
     "output_type": "stream",
     "text": [
      "25\n"
     ]
    }
   ],
   "source": [
    "print(result)\n",
    "sess.close()"
   ]
  },
  {
   "cell_type": "code",
   "execution_count": 7,
   "metadata": {},
   "outputs": [
    {
     "name": "stdout",
     "output_type": "stream",
     "text": [
      "0\n",
      "2\n",
      "4\n",
      "6\n",
      "8\n",
      "10\n"
     ]
    }
   ],
   "source": [
    "i = tf.Variable(0, name=\"i\")\n",
    "ops = tf.assign(i, i+2)\n",
    "init = tf.global_variables_initializer()\n",
    "\n",
    "with tf.Session() as sess:\n",
    "    sess.run(init)\n",
    "    val = sess.run(i)\n",
    "    print(val)\n",
    "    for _ in range(5):\n",
    "        sess.run(ops)\n",
    "        print(sess.run(i))\n",
    "\n",
    "sess.close()"
   ]
  },
  {
   "cell_type": "markdown",
   "metadata": {},
   "source": [
    "#### TensorFlow constant `tf.constant`"
   ]
  },
  {
   "cell_type": "code",
   "execution_count": 8,
   "metadata": {},
   "outputs": [],
   "source": [
    "x = tf.constant(7, name=\"x\")\n",
    "y = tf.constant(5, name=\"y\")\n",
    "z = tf.add(x, y)"
   ]
  },
  {
   "cell_type": "code",
   "execution_count": 9,
   "metadata": {},
   "outputs": [
    {
     "data": {
      "text/plain": [
       "<tf.Tensor 'x:0' shape=() dtype=int32>"
      ]
     },
     "execution_count": 9,
     "metadata": {},
     "output_type": "execute_result"
    }
   ],
   "source": [
    "x"
   ]
  },
  {
   "cell_type": "code",
   "execution_count": 10,
   "metadata": {},
   "outputs": [
    {
     "data": {
      "text/plain": [
       "<tf.Tensor 'Add_3:0' shape=() dtype=int32>"
      ]
     },
     "execution_count": 10,
     "metadata": {},
     "output_type": "execute_result"
    }
   ],
   "source": [
    "z"
   ]
  },
  {
   "cell_type": "code",
   "execution_count": 11,
   "metadata": {},
   "outputs": [],
   "source": [
    "with tf.Session() as sess:\n",
    "    add = sess.run(z)"
   ]
  },
  {
   "cell_type": "code",
   "execution_count": 12,
   "metadata": {},
   "outputs": [
    {
     "name": "stdout",
     "output_type": "stream",
     "text": [
      "12\n"
     ]
    }
   ],
   "source": [
    "print(add)"
   ]
  },
  {
   "cell_type": "markdown",
   "metadata": {},
   "source": [
    "#### TensorFlow Placeholders `tf.placeholders`"
   ]
  },
  {
   "cell_type": "code",
   "execution_count": 13,
   "metadata": {},
   "outputs": [],
   "source": [
    "tf.reset_default_graph()"
   ]
  },
  {
   "cell_type": "code",
   "execution_count": 14,
   "metadata": {},
   "outputs": [
    {
     "name": "stdout",
     "output_type": "stream",
     "text": [
      "[[ 4 25 49]\n",
      " [25 49 16]\n",
      " [ 0 25 49]]\n"
     ]
    }
   ],
   "source": [
    "X = tf.placeholder(tf.int32)\n",
    "y = X ** 2\n",
    "dct = {X:[[2,5,7],[5,7,4],[0,5,7]]}\n",
    "with tf.Session() as sess:\n",
    "    result = sess.run(y,feed_dict=dct)\n",
    "    print(result)"
   ]
  },
  {
   "cell_type": "markdown",
   "metadata": {},
   "source": [
    "# Into to Graph\n",
    " Let's create our very first TensorFlow Graph `tf.Graph()`"
   ]
  },
  {
   "cell_type": "code",
   "execution_count": 15,
   "metadata": {},
   "outputs": [],
   "source": [
    "Graph = tf.Graph()"
   ]
  },
  {
   "cell_type": "code",
   "execution_count": 16,
   "metadata": {},
   "outputs": [
    {
     "data": {
      "text/plain": [
       "<tensorflow.python.framework.ops.Graph at 0x139f2f70>"
      ]
     },
     "execution_count": 16,
     "metadata": {},
     "output_type": "execute_result"
    }
   ],
   "source": [
    "Graph"
   ]
  },
  {
   "cell_type": "code",
   "execution_count": 17,
   "metadata": {},
   "outputs": [],
   "source": [
    "with Graph.as_default():\n",
    "    a = tf.constant([5], name=\"const_a\")\n",
    "    b = tf.constant([3], name=\"const_b\")\n",
    "    c = tf.add(a, b)"
   ]
  },
  {
   "cell_type": "code",
   "execution_count": 18,
   "metadata": {},
   "outputs": [
    {
     "data": {
      "text/plain": [
       "<tf.Tensor 'const_b:0' shape=(1,) dtype=int32>"
      ]
     },
     "execution_count": 18,
     "metadata": {},
     "output_type": "execute_result"
    }
   ],
   "source": [
    "b"
   ]
  },
  {
   "cell_type": "code",
   "execution_count": 19,
   "metadata": {},
   "outputs": [
    {
     "data": {
      "text/plain": [
       "<tf.Tensor 'Add:0' shape=(1,) dtype=int32>"
      ]
     },
     "execution_count": 19,
     "metadata": {},
     "output_type": "execute_result"
    }
   ],
   "source": [
    "c"
   ]
  },
  {
   "cell_type": "code",
   "execution_count": 20,
   "metadata": {},
   "outputs": [
    {
     "name": "stdout",
     "output_type": "stream",
     "text": [
      "C : [3]\n"
     ]
    }
   ],
   "source": [
    "sess = tf.Session(graph = Graph)\n",
    "result = sess.run(b)\n",
    "print(\"C :\",result)"
   ]
  },
  {
   "cell_type": "code",
   "execution_count": 21,
   "metadata": {},
   "outputs": [],
   "source": [
    "sess.close()"
   ]
  },
  {
   "cell_type": "code",
   "execution_count": 22,
   "metadata": {},
   "outputs": [],
   "source": [
    "sess = tf.Session(graph = Graph)"
   ]
  },
  {
   "cell_type": "code",
   "execution_count": 23,
   "metadata": {},
   "outputs": [
    {
     "data": {
      "text/plain": [
       "array([8])"
      ]
     },
     "execution_count": 23,
     "metadata": {},
     "output_type": "execute_result"
    }
   ],
   "source": [
    "sess.run(c)"
   ]
  },
  {
   "cell_type": "code",
   "execution_count": 24,
   "metadata": {},
   "outputs": [],
   "source": [
    "sess.close()"
   ]
  },
  {
   "cell_type": "code",
   "execution_count": 25,
   "metadata": {},
   "outputs": [
    {
     "name": "stdout",
     "output_type": "stream",
     "text": [
      "[8]\n"
     ]
    }
   ],
   "source": [
    "with tf.Session(graph=Graph) as sess:\n",
    "    add_result = sess.run(c)\n",
    "    print(add_result)"
   ]
  },
  {
   "cell_type": "markdown",
   "metadata": {},
   "source": [
    "# Defining Tensor\n",
    "Let's define multidimensional arrays(Tensor) using TensorFlow"
   ]
  },
  {
   "cell_type": "code",
   "execution_count": 26,
   "metadata": {},
   "outputs": [],
   "source": [
    "tf.reset_default_graph()"
   ]
  },
  {
   "cell_type": "code",
   "execution_count": 27,
   "metadata": {},
   "outputs": [],
   "source": [
    "graph = tf.Graph()\n",
    "with graph.as_default():\n",
    "    dim_0 = tf.constant(2, name=\"Scalar\")\n",
    "    dim_1 = tf.constant([1,2,3], name=\"Vector\")\n",
    "    dim_2 = tf.constant([[1,2,3],[4,5,6],[7,8,9]], name=\"Matrix\")\n",
    "    dim_3 = tf.constant( [ [[1,2,3],[2,3,4],[3,4,5]], \n",
    "                           [[4,5,6],[5,6,7],[6,7,8]], \n",
    "                           [[7,8,9],[8,9,10],[9,10,11]]\n",
    "                         ], name=\"Tensor\")"
   ]
  },
  {
   "cell_type": "code",
   "execution_count": 28,
   "metadata": {},
   "outputs": [
    {
     "name": "stdout",
     "output_type": "stream",
     "text": [
      "Tensor(\"Scalar:0\", shape=(), dtype=int32)\n",
      "Value of Tensor : 2\n",
      "\n",
      "\n",
      "Tensor(\"Vector:0\", shape=(3,), dtype=int32)\n",
      "Value of Tensor : [1 2 3]\n",
      "\n",
      "\n",
      "Tensor(\"Matrix:0\", shape=(3, 3), dtype=int32)\n",
      "Value of Tensor : [[1 2 3]\n",
      " [4 5 6]\n",
      " [7 8 9]]\n",
      "\n",
      "\n",
      "Tensor(\"Tensor:0\", shape=(3, 3, 3), dtype=int32)\n",
      "Value of Tensor : [[[ 1  2  3]\n",
      "  [ 2  3  4]\n",
      "  [ 3  4  5]]\n",
      "\n",
      " [[ 4  5  6]\n",
      "  [ 5  6  7]\n",
      "  [ 6  7  8]]\n",
      "\n",
      " [[ 7  8  9]\n",
      "  [ 8  9 10]\n",
      "  [ 9 10 11]]]\n",
      "\n",
      "\n"
     ]
    }
   ],
   "source": [
    "with tf.Session(graph=graph) as sess:\n",
    "    def sess_run(tensor):\n",
    "        value = sess.run(tensor)\n",
    "        print(tensor)\n",
    "        print(\"Value of Tensor :\",value)\n",
    "        print(\"\\n\")\n",
    "    \n",
    "    sess_run(dim_0)\n",
    "    sess_run(dim_1)\n",
    "    sess_run(dim_2)\n",
    "    sess_run(dim_3)"
   ]
  },
  {
   "cell_type": "markdown",
   "metadata": {},
   "source": [
    "# Tensor Operations"
   ]
  },
  {
   "cell_type": "code",
   "execution_count": 29,
   "metadata": {},
   "outputs": [],
   "source": [
    "tf.reset_default_graph()"
   ]
  },
  {
   "cell_type": "code",
   "execution_count": 30,
   "metadata": {},
   "outputs": [],
   "source": [
    "graph = tf.Graph()\n",
    "\n",
    "with graph.as_default():\n",
    "    x = tf.constant([[1,2,1],[3,2,4],[5,3,4]], name=\"const_x\")\n",
    "    y = tf.constant([[4,3,7],[5,4,5],[7,4,7]], name=\"const_y\")\n",
    "    \n",
    "    add = x + y\n",
    "    add_ops = tf.add(x, y)\n",
    "    matmul = tf.matmul(x, y)"
   ]
  },
  {
   "cell_type": "code",
   "execution_count": 31,
   "metadata": {},
   "outputs": [
    {
     "name": "stdout",
     "output_type": "stream",
     "text": [
      "Add :\n",
      " [[ 5  5  8]\n",
      " [ 8  6  9]\n",
      " [12  7 11]]\n",
      "\n",
      "\n",
      "Add with tf ops :\n",
      " [[ 5  5  8]\n",
      " [ 8  6  9]\n",
      " [12  7 11]]\n",
      "\n",
      "\n",
      "Matrix Multiplication with tf ops\n",
      " [[21 15 24]\n",
      " [50 33 59]\n",
      " [63 43 78]]\n"
     ]
    }
   ],
   "source": [
    "with tf.Session(graph=graph) as sess:\n",
    "    result_add = sess.run(add)\n",
    "    result_add_ops = sess.run(add_ops)\n",
    "    result_matmul = sess.run(matmul)\n",
    "    print(\"Add :\\n\", result_add)\n",
    "    print(\"\\n\")\n",
    "    print(\"Add with tf ops :\\n\", result_add_ops)\n",
    "    print(\"\\n\")\n",
    "    print(\"Matrix Multiplication with tf ops\\n\", result_matmul)"
   ]
  },
  {
   "cell_type": "code",
   "execution_count": null,
   "metadata": {},
   "outputs": [],
   "source": []
  }
 ],
 "metadata": {
  "kernelspec": {
   "display_name": "Python 3",
   "language": "python",
   "name": "python3"
  },
  "language_info": {
   "codemirror_mode": {
    "name": "ipython",
    "version": 3
   },
   "file_extension": ".py",
   "mimetype": "text/x-python",
   "name": "python",
   "nbconvert_exporter": "python",
   "pygments_lexer": "ipython3",
   "version": "3.6.5"
  }
 },
 "nbformat": 4,
 "nbformat_minor": 2
}
