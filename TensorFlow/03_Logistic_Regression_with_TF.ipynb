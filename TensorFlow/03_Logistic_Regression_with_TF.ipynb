{
 "cells": [
  {
   "cell_type": "code",
   "execution_count": 1,
   "metadata": {},
   "outputs": [],
   "source": [
    "import tensorflow as tf"
   ]
  },
  {
   "cell_type": "code",
   "execution_count": 2,
   "metadata": {
    "scrolled": true
   },
   "outputs": [
    {
     "name": "stdout",
     "output_type": "stream",
     "text": [
      "WARNING:tensorflow:From <ipython-input-2-c3d55fec490c>:2: read_data_sets (from tensorflow.contrib.learn.python.learn.datasets.mnist) is deprecated and will be removed in a future version.\n",
      "Instructions for updating:\n",
      "Please use alternatives such as official/mnist/dataset.py from tensorflow/models.\n",
      "WARNING:tensorflow:From c:\\python36\\lib\\site-packages\\tensorflow\\contrib\\learn\\python\\learn\\datasets\\mnist.py:260: maybe_download (from tensorflow.contrib.learn.python.learn.datasets.base) is deprecated and will be removed in a future version.\n",
      "Instructions for updating:\n",
      "Please write your own downloading logic.\n",
      "WARNING:tensorflow:From c:\\python36\\lib\\site-packages\\tensorflow\\contrib\\learn\\python\\learn\\datasets\\mnist.py:262: extract_images (from tensorflow.contrib.learn.python.learn.datasets.mnist) is deprecated and will be removed in a future version.\n",
      "Instructions for updating:\n",
      "Please use tf.data to implement this functionality.\n",
      "Extracting /tmp/data/train-images-idx3-ubyte.gz\n",
      "WARNING:tensorflow:From c:\\python36\\lib\\site-packages\\tensorflow\\contrib\\learn\\python\\learn\\datasets\\mnist.py:267: extract_labels (from tensorflow.contrib.learn.python.learn.datasets.mnist) is deprecated and will be removed in a future version.\n",
      "Instructions for updating:\n",
      "Please use tf.data to implement this functionality.\n",
      "Extracting /tmp/data/train-labels-idx1-ubyte.gz\n",
      "WARNING:tensorflow:From c:\\python36\\lib\\site-packages\\tensorflow\\contrib\\learn\\python\\learn\\datasets\\mnist.py:110: dense_to_one_hot (from tensorflow.contrib.learn.python.learn.datasets.mnist) is deprecated and will be removed in a future version.\n",
      "Instructions for updating:\n",
      "Please use tf.one_hot on tensors.\n",
      "Extracting /tmp/data/t10k-images-idx3-ubyte.gz\n",
      "Extracting /tmp/data/t10k-labels-idx1-ubyte.gz\n",
      "WARNING:tensorflow:From c:\\python36\\lib\\site-packages\\tensorflow\\contrib\\learn\\python\\learn\\datasets\\mnist.py:290: DataSet.__init__ (from tensorflow.contrib.learn.python.learn.datasets.mnist) is deprecated and will be removed in a future version.\n",
      "Instructions for updating:\n",
      "Please use alternatives such as official/mnist/dataset.py from tensorflow/models.\n"
     ]
    }
   ],
   "source": [
    "from tensorflow.examples.tutorials.mnist import input_data\n",
    "mnist = input_data.read_data_sets(\"/tmp/data/\", one_hot=True)"
   ]
  },
  {
   "cell_type": "code",
   "execution_count": 3,
   "metadata": {},
   "outputs": [],
   "source": [
    "x = tf.placeholder(tf.float32, [None, 784])\n",
    "y = tf.placeholder(tf.float32, [None, 10])\n",
    "\n",
    "W = tf.Variable(tf.zeros([784, 10]), name=\"weight\")\n",
    "b = tf.Variable(tf.zeros([10]), name=\"bias\")"
   ]
  },
  {
   "cell_type": "code",
   "execution_count": 4,
   "metadata": {},
   "outputs": [],
   "source": [
    "predictions = tf.nn.softmax(tf.matmul(x, W) + b)"
   ]
  },
  {
   "cell_type": "code",
   "execution_count": 5,
   "metadata": {},
   "outputs": [],
   "source": [
    "loss_function = tf.reduce_mean(-tf.reduce_sum(y*tf.log(predictions), reduction_indices=1))"
   ]
  },
  {
   "cell_type": "code",
   "execution_count": 6,
   "metadata": {},
   "outputs": [],
   "source": [
    "optimizer = tf.train.GradientDescentOptimizer(learning_rate=0.01).minimize(loss_function)"
   ]
  },
  {
   "cell_type": "code",
   "execution_count": 7,
   "metadata": {},
   "outputs": [],
   "source": [
    "init = tf.global_variables_initializer()"
   ]
  },
  {
   "cell_type": "code",
   "execution_count": 8,
   "metadata": {},
   "outputs": [
    {
     "name": "stdout",
     "output_type": "stream",
     "text": [
      "Start Training...\n",
      "Epoch: 0001 Loss = 1.183857100\n",
      "Epoch: 0002 Loss = 0.665263668\n",
      "Epoch: 0003 Loss = 0.552868072\n",
      "Epoch: 0004 Loss = 0.498624862\n",
      "Epoch: 0005 Loss = 0.465456837\n",
      "Epoch: 0006 Loss = 0.442564423\n",
      "Epoch: 0007 Loss = 0.425518293\n",
      "Epoch: 0008 Loss = 0.412187636\n",
      "Epoch: 0009 Loss = 0.401403369\n",
      "Epoch: 0010 Loss = 0.392436407\n",
      "Epoch: 0011 Loss = 0.384737403\n",
      "Epoch: 0012 Loss = 0.378196130\n",
      "Epoch: 0013 Loss = 0.372389865\n",
      "Epoch: 0014 Loss = 0.367234246\n",
      "Epoch: 0015 Loss = 0.362693634\n",
      "Epoch: 0016 Loss = 0.358609595\n",
      "Epoch: 0017 Loss = 0.354867869\n",
      "Epoch: 0018 Loss = 0.351412508\n",
      "Epoch: 0019 Loss = 0.348366580\n",
      "Epoch: 0020 Loss = 0.345444631\n",
      "Epoch: 0021 Loss = 0.342744939\n",
      "Epoch: 0022 Loss = 0.340239490\n",
      "Epoch: 0023 Loss = 0.337876610\n",
      "Epoch: 0024 Loss = 0.335708931\n",
      "Epoch: 0025 Loss = 0.333699352\n",
      "Epoch: 0026 Loss = 0.331763824\n",
      "Epoch: 0027 Loss = 0.329958532\n",
      "Epoch: 0028 Loss = 0.328211431\n",
      "Epoch: 0029 Loss = 0.326590908\n",
      "Epoch: 0030 Loss = 0.325066931\n",
      "\n",
      "Optimization Finished!\n",
      "\n",
      "Accuracy: 0.892\n"
     ]
    }
   ],
   "source": [
    "with tf.Session() as sess:\n",
    "    sess.run(init)\n",
    "\n",
    "    print(\"Start Training...\")\n",
    "    for epoch in range(30):\n",
    "        avg_loss = 0.\n",
    "        total_batch = int(mnist.train.num_examples / 100)\n",
    "        \n",
    "        for i in range(total_batch):\n",
    "            batch_xs, batch_ys = mnist.train.next_batch(100)\n",
    "            _, c = sess.run([optimizer, loss_function], feed_dict={x: batch_xs, y: batch_ys})\n",
    "            avg_loss += c / total_batch\n",
    "            \n",
    "        print(\"Epoch:\", '%04d' % (epoch+1), \"Loss =\", \"{:.9f}\".format(avg_loss))\n",
    "\n",
    "    print(\"\\nOptimization Finished!\\n\")\n",
    "\n",
    "    correct_prediction = tf.equal(tf.argmax(predictions, 1), tf.argmax(y, 1))\n",
    "    # Calculate accuracy for 3000 examples\n",
    "    accuracy = tf.reduce_mean(tf.cast(correct_prediction, tf.float32))\n",
    "    print(\"Accuracy:\", accuracy.eval({x: mnist.test.images[:3000], y: mnist.test.labels[:3000]}))"
   ]
  },
  {
   "cell_type": "markdown",
   "metadata": {},
   "source": [
    "# Visualizing the Graph\n",
    "<br>\n",
    "<img src=\"./Images/03_Logistic_Regression_with_TF_Graph.png\">"
   ]
  }
 ],
 "metadata": {
  "kernelspec": {
   "display_name": "Python 3",
   "language": "python",
   "name": "python3"
  },
  "language_info": {
   "codemirror_mode": {
    "name": "ipython",
    "version": 3
   },
   "file_extension": ".py",
   "mimetype": "text/x-python",
   "name": "python",
   "nbconvert_exporter": "python",
   "pygments_lexer": "ipython3",
   "version": "3.6.5"
  }
 },
 "nbformat": 4,
 "nbformat_minor": 2
}
