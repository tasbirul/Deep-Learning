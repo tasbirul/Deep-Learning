{
 "cells": [
  {
   "cell_type": "markdown",
   "metadata": {},
   "source": [
    "# Gradient Descent Algorithm"
   ]
  },
  {
   "cell_type": "code",
   "execution_count": 1,
   "metadata": {},
   "outputs": [],
   "source": [
    "import numpy as np\n",
    "import pandas as pd\n",
    "import matplotlib.pyplot as plt\n",
    "%matplotlib inline\n",
    "\n",
    "np.random.seed(44)"
   ]
  },
  {
   "cell_type": "markdown",
   "metadata": {},
   "source": [
    "- Sigmoid activation function\n",
    "\n",
    "$$\\sigma(x) = \\frac{1}{1+e^{-x}}$$\n",
    "\n",
    "- Output (prediction) function\n",
    "\n",
    "$$\\hat{y} = \\sigma(w_1 x_1 + w_2 x_2 + b)$$\n",
    "\n",
    "- Error function\n",
    "\n",
    "$$Error(y, \\hat{y}) = - y \\log(\\hat{y}) - (1-y) \\log(1-\\hat{y})$$\n",
    "\n",
    "- Updates weights function\n",
    "\n",
    "$$ w_i \\longrightarrow w_i + \\alpha (y - \\hat{y}) x_i$$\n",
    "\n",
    "$$ b \\longrightarrow b + \\alpha (y - \\hat{y})$$"
   ]
  },
  {
   "cell_type": "code",
   "execution_count": 2,
   "metadata": {},
   "outputs": [],
   "source": [
    "class Nural_Newtwork(object):\n",
    "    def __init__(self):\n",
    "        pass\n",
    "    \n",
    "    def sigmoid(self, x):\n",
    "        return 1 / (1 + np.exp(-x))\n",
    "\n",
    "    def output(self, features, weights, bias):\n",
    "        return self.sigmoid(np.dot(features, weights) + bias)\n",
    "\n",
    "    def error(self, y, output):\n",
    "        return - y*np.log(output) - (1 - y) * np.log(1-output)\n",
    "\n",
    "    def update_weights(self, x, y, weights, bias, learnrate):\n",
    "        output = self.output(x, weights, bias)\n",
    "        d_error = -(y - output)\n",
    "        weights -= learnrate * d_error * x\n",
    "        bias -= learnrate * d_error\n",
    "        return weights, bias\n",
    "    \n",
    "    def accuracy(self, targets):\n",
    "        predictions = self.out > 0.5\n",
    "        accuracy = np.mean(predictions == targets)\n",
    "        return accuracy\n",
    "    \n",
    "    def train(self, features, targets, epochs, learnrate, graph_lines=False):\n",
    "        errors = []\n",
    "        n_records, n_features = features.shape\n",
    "        last_loss = None\n",
    "        weights = np.random.normal(scale=1 / n_features**.5, size=n_features)\n",
    "        bias = 0\n",
    "        for e in range(epochs):\n",
    "            del_w = np.zeros(weights.shape)\n",
    "            for x, y in zip(features, targets):\n",
    "                output = self.output(x, weights, bias)\n",
    "                error = self.error(y, output)\n",
    "                weights, bias = self.update_weights(x, y, weights, bias, learnrate)\n",
    "\n",
    "            self.out = self.output(features, weights, bias)\n",
    "            loss = np.mean(self.error(targets, self.out))\n",
    "            errors.append(loss)\n",
    "            if e % (epochs / 10) == 0:\n",
    "                if last_loss and last_loss < loss:\n",
    "                    print(\"Epoch\", e, \"Train loss: \", loss, \"  WARNING - Loss Increasing\")\n",
    "                else:\n",
    "                    print(\"Epoch: {} Train loss: {:.4f} Accuracy: {}\".format(e, loss, self.accuracy(targets)))\n",
    "                last_loss = loss"
   ]
  },
  {
   "cell_type": "code",
   "execution_count": 3,
   "metadata": {},
   "outputs": [],
   "source": [
    "nn = Nural_Newtwork()"
   ]
  },
  {
   "cell_type": "code",
   "execution_count": 4,
   "metadata": {},
   "outputs": [],
   "source": [
    "data = pd.read_csv('../Datasets/GRADIENT/data.csv', header=None)\n",
    "X = np.array(data[[0,1]])\n",
    "y = np.array(data[2])"
   ]
  },
  {
   "cell_type": "code",
   "execution_count": 5,
   "metadata": {},
   "outputs": [
    {
     "name": "stdout",
     "output_type": "stream",
     "text": [
      "Epoch: 0 Train loss: 0.7136 Accuracy: 0.4\n",
      "Epoch: 10 Train loss: 0.6226 Accuracy: 0.59\n",
      "Epoch: 20 Train loss: 0.5549 Accuracy: 0.74\n",
      "Epoch: 30 Train loss: 0.5016 Accuracy: 0.84\n",
      "Epoch: 40 Train loss: 0.4593 Accuracy: 0.86\n",
      "Epoch: 50 Train loss: 0.4253 Accuracy: 0.93\n",
      "Epoch: 60 Train loss: 0.3973 Accuracy: 0.93\n",
      "Epoch: 70 Train loss: 0.3741 Accuracy: 0.93\n",
      "Epoch: 80 Train loss: 0.3546 Accuracy: 0.94\n",
      "Epoch: 90 Train loss: 0.3379 Accuracy: 0.94\n"
     ]
    }
   ],
   "source": [
    "nn.train(X, y, epochs = 100, learnrate = 0.01)"
   ]
  }
 ],
 "metadata": {
  "kernelspec": {
   "display_name": "Python 3",
   "language": "python",
   "name": "python3"
  },
  "language_info": {
   "codemirror_mode": {
    "name": "ipython",
    "version": 3
   },
   "file_extension": ".py",
   "mimetype": "text/x-python",
   "name": "python",
   "nbconvert_exporter": "python",
   "pygments_lexer": "ipython3",
   "version": "3.6.5"
  }
 },
 "nbformat": 4,
 "nbformat_minor": 2
}
