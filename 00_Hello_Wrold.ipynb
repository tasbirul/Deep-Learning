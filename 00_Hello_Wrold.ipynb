{
 "cells": [
  {
   "cell_type": "markdown",
   "metadata": {},
   "source": [
    "<table class=\"tfo-notebook-buttons\" align=\"left\">\n",
    "  <td>\n",
    "    <a target=\"_blank\" href=\"https://colab.research.google.com/github/tasbirul/Deep-Learning-With-Keras/blob/master/00_Hello_Wrold.ipynb\"><img src=\"https://www.tensorflow.org/images/colab_logo_32px.png\" />Run Now in Colab</a>\n",
    "  </td>\n",
    "  <td>\n",
    "    <a target=\"_blank\" href=\"https://github.com/tasbirul/Deep-Learning-With-Keras/blob/master/00_Hello_Wrold.ipynb\"><img src=\"https://www.tensorflow.org/images/GitHub-Mark-32px.png\" />View source on GitHub</a>\n",
    "  </td>\n",
    "</table>"
   ]
  },
  {
   "cell_type": "markdown",
   "metadata": {},
   "source": [
    "\n",
    "# Hello World of Deep Learning\n",
    "\n",
    "<img src='https://upload.wikimedia.org/wikipedia/commons/thumb/4/46/Colored_neural_network.svg/300px-Colored_neural_network.svg.png'>\n",
    "\n",
    "\n",
    "If we talk about Deep Learning first of all, we need to know what deep learning is and why do we care about it? Well, `\"Deep learning is a class of machine learning algorithms that use a cascade of multiple layers of nonlinear processing units for feature extraction and transformation & each successive layer uses the output from the previous layer as input.\"`\n",
    "\n",
    "So, Deep Learning is a sub-field of machine learning and machine learning is a subfield of Artificial Intelligence. It's clear that Deep Learning is an important part of the AI! Deep Learning has some special task-specific learning algorithms such as supervised learning, semi-supervised learning even unsupervised learning. Deep learning is inspired by biological nervous systems especially human brains.\n",
    "\n",
    "Nowadays modern deep learning models are based on an artificial neural network(ANN). A basic artificial neural network has one input layer, one hidden layer, and one final output layer.  Some neural networks have multiple hidden layers. That's called deep neural network. The first layer simple represents inputs and it passes through to the hidden layer. The hidden layer has an activation function \n"
   ]
  },
  {
   "cell_type": "code",
   "execution_count": null,
   "metadata": {},
   "outputs": [],
   "source": []
  },
  {
   "cell_type": "markdown",
   "metadata": {},
   "source": [
    "<style>\n",
    "*{font-family:  -apple-system, BlinkMacSystemFont, 'Segoe UI', 'Ubuntu', 'Helvetica Neue',  }\n",
    "</style>"
   ]
  },
  {
   "cell_type": "markdown",
   "metadata": {},
   "source": []
  },
  {
   "cell_type": "code",
   "execution_count": null,
   "metadata": {},
   "outputs": [],
   "source": []
  }
 ],
 "metadata": {
  "kernelspec": {
   "display_name": "Python 3",
   "language": "python",
   "name": "python3"
  },
  "language_info": {
   "codemirror_mode": {
    "name": "ipython",
    "version": 3
   },
   "file_extension": ".py",
   "mimetype": "text/x-python",
   "name": "python",
   "nbconvert_exporter": "python",
   "pygments_lexer": "ipython3",
   "version": "3.6.5"
  }
 },
 "nbformat": 4,
 "nbformat_minor": 2
}
