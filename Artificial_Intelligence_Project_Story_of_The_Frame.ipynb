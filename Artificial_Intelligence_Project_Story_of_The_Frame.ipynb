{
  "nbformat": 4,
  "nbformat_minor": 0,
  "metadata": {
    "colab": {
      "provenance": [],
      "authorship_tag": "ABX9TyN7e3h1WaSBoTLdd878pnhf",
      "include_colab_link": true
    },
    "kernelspec": {
      "name": "python3",
      "display_name": "Python 3"
    },
    "language_info": {
      "name": "python"
    }
  },
  "cells": [
    {
      "cell_type": "markdown",
      "metadata": {
        "id": "view-in-github",
        "colab_type": "text"
      },
      "source": [
        "<a href=\"https://colab.research.google.com/github/tasbirul/Deep-Learning-With-Python/blob/master/Artificial_Intelligence_Project_Story_of_The_Frame.ipynb\" target=\"_parent\"><img src=\"https://colab.research.google.com/assets/colab-badge.svg\" alt=\"Open In Colab\"/></a>"
      ]
    },
    {
      "cell_type": "code",
      "execution_count": 1,
      "metadata": {
        "colab": {
          "base_uri": "https://localhost:8080/"
        },
        "id": "H5WtHMz_Q2xy",
        "outputId": "d9929afd-037e-442c-b03d-8e613c357314"
      },
      "outputs": [
        {
          "output_type": "stream",
          "name": "stdout",
          "text": [
            "Python 3.7.14\n"
          ]
        }
      ],
      "source": [
        "!python --version"
      ]
    },
    {
      "cell_type": "code",
      "source": [
        "import os\n",
        "import time\n",
        "import json\n",
        "import collections\n",
        "import random\n",
        "import numpy as np\n",
        "from PIL import Image\n",
        "\n",
        "import matplotlib.pyplot as plt\n",
        "\n",
        "import tensorflow as tf"
      ],
      "metadata": {
        "id": "PXSrz1E2RMmw"
      },
      "execution_count": 2,
      "outputs": []
    },
    {
      "cell_type": "code",
      "source": [
        "# Download and prepare the MS-COCO dataset\n",
        "# Download caption annotation files\n",
        "annotation_folder = '/annotations/'\n",
        "if not os.path.exists(os.path.abspath('.') + annotation_folder):\n",
        "    annotation_zip = tf.keras.utils.get_file('captions.zip',\n",
        "            cache_subdir=os.path.abspath('.'),\n",
        "            origin='http://images.cocodataset.org/annotations/annotations_trainval2014.zip'\n",
        "            , extract=True)\n",
        "    annotation_file = os.path.dirname(annotation_zip) \\\n",
        "        + '/annotations/captions_train2014.json'\n",
        "    os.remove(annotation_zip)\n",
        "\n",
        "# Download image files\n",
        "\n",
        "image_folder = '/train2014/'\n",
        "if not os.path.exists(os.path.abspath('.') + image_folder):\n",
        "    image_zip = tf.keras.utils.get_file('train2014.zip',\n",
        "            cache_subdir=os.path.abspath('.'),\n",
        "            origin='http://images.cocodataset.org/zips/train2014.zip',\n",
        "            extract=True)\n",
        "    PATH = os.path.dirname(image_zip) + image_folder\n",
        "    os.remove(image_zip)\n",
        "else:\n",
        "    PATH = os.path.abspath('.') + image_folder"
      ],
      "metadata": {
        "colab": {
          "base_uri": "https://localhost:8080/"
        },
        "id": "W0eeS7ADRTIE",
        "outputId": "3c9144f6-0c0b-48a1-91a2-1f2a3265e1af"
      },
      "execution_count": null,
      "outputs": [
        {
          "output_type": "stream",
          "name": "stdout",
          "text": [
            "Downloading data from http://images.cocodataset.org/annotations/annotations_trainval2014.zip\n",
            "252878848/252872794 [==============================] - 2s 0us/step\n",
            "252887040/252872794 [==============================] - 2s 0us/step\n",
            "Downloading data from http://images.cocodataset.org/zips/train2014.zip\n",
            "11380523008/13510573713 [========================>.....] - ETA: 26s"
          ]
        }
      ]
    },
    {
      "cell_type": "code",
      "source": [],
      "metadata": {
        "id": "0N4tAalCRV-z"
      },
      "execution_count": null,
      "outputs": []
    }
  ]
}